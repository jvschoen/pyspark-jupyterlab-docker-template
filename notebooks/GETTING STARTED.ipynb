{
 "cells": [
  {
   "cell_type": "markdown",
   "metadata": {},
   "source": [
    "TO DO:\n",
    "\n",
    "Must go install jupyterlab/toc. Choose the extensions icon from the left sidebar in JupyterLab. Enable 3rd party extensions and install jupyterlab/toc. After installing you'll need to do a rebuild jupyterlab, a message will inform you. \n",
    "\n",
    "\n",
    "Select Settings in the top menu bar and go to \"Advanced Settings\" and choose Table of Contents. Set this attribute in to override the default non collapsible behavior of the table of contents extension. \n",
    "`{\"collapsibleNotebooks\": true}`"
   ]
  }
 ],
 "metadata": {
  "kernelspec": {
   "display_name": "Python 3",
   "language": "python",
   "name": "python3"
  }
 },
 "nbformat": 4,
 "nbformat_minor": 4
}
