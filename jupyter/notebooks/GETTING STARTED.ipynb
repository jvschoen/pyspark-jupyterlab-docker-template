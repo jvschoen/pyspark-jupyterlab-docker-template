{
 "cells": [
  {
   "cell_type": "markdown",
   "metadata": {},
   "source": [
    "# Install Jupyterlab/toc\n",
    "This notebook extension allows for collapsable notebook with table of contents for easily navigating a notebook"
   ]
  },
  {
   "cell_type": "markdown",
   "metadata": {},
   "source": [
    "1. Choose the extensions icon from the left sidebar in JupyterLab.  \n",
    "2. Enable 3rd party extensions  \n",
    "3. Install jupyterlab/toc  \n",
    "4. After installing you'll need to do a rebuild jupyterlab, a message will inform you.  \n",
    "5. Select Settings > Advanced Settings in the top menu bar.  \n",
    "6. CHoose Table of Contents from the available settings.  \n",
    "7. Add `{\"collapsibleNotebooks\": true}` to the override settings in the right panel.  "
   ]
  },
  {
   "cell_type": "markdown",
   "metadata": {},
   "source": [
    "# Set up Github SSH Keys\n",
    "\n",
    "[Follow These Instructions to Create Key Locally](https://docs.github.com/en/free-pro-team@latest/github/authenticating-to-github/generating-a-new-ssh-key-and-adding-it-to-the-ssh-agent)  \n",
    "[These instructions to Add the key to your github](https://docs.github.com/en/free-pro-team@latest/github/authenticating-to-github/adding-a-new-ssh-key-to-your-github-account) \n",
    "\n",
    "A summary is listed below."
   ]
  },
  {
   "cell_type": "markdown",
   "metadata": {},
   "source": [
    "1. Launce a terminal session and \n",
    "2. Enter the following, you may just hit enter to use default location and no passphrase:  \n",
    "        ssh-keygen -t ed25519 -C \"your_email@example.com\"  \n",
    "3. Run: \n",
    "        eval \"$(ssh-agent -s)\"\n",
    "        ssh-add ~/.ssh/id_ed25519\n",
    "4. Run:\n",
    "        cat ~/.ssh/id_ed25519.pub\n",
    "\n",
    "5. Copy output of this to your clipboard\n",
    "6. Navigate to your github account \"Settings\" > \"SSH and GPG Keys\" or click [here](https://github.com/settings/keys)\n",
    "7. Add a New key, name it something meaningful like `<project-repo>-jupyterlab` and paste the contents of your clipboard into the `Key` field and hit Add SSH key button\n",
    "\n",
    "Congratulations! You are now able to work with git from this docker image using ssh.\n",
    "\n",
    "You'll want to do the following to update the remote repo with the new environment:\n",
    "        \n",
    "        git config --global user.email \"you@example.com\"\n",
    "        git config --global user.name \"Your Name\"\n",
    "        git add .\n",
    "        git commit -m 'updating repo with project environment structure'"
   ]
  },
  {
   "cell_type": "code",
   "execution_count": null,
   "metadata": {},
   "outputs": [],
   "source": []
  }
 ],
 "metadata": {
  "kernelspec": {
   "display_name": "Python 3",
   "language": "python",
   "name": "python3"
  },
  "language_info": {
   "codemirror_mode": {
    "name": "ipython",
    "version": 3
   },
   "file_extension": ".py",
   "mimetype": "text/x-python",
   "name": "python",
   "nbconvert_exporter": "python",
   "pygments_lexer": "ipython3",
   "version": "3.8.6"
  }
 },
 "nbformat": 4,
 "nbformat_minor": 4
}
